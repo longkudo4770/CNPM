{
  "nbformat": 4,
  "nbformat_minor": 0,
  "metadata": {
    "colab": {
      "name": "MachineLearning_pyspark.ipynb",
      "provenance": [],
      "collapsed_sections": []
    },
    "kernelspec": {
      "name": "python3",
      "display_name": "Python 3"
    },
    "language_info": {
      "name": "python"
    }
  },
  "cells": [
    {
      "cell_type": "code",
      "metadata": {
        "id": "8eBHxCO43LzT",
        "colab": {
          "base_uri": "https://localhost:8080/"
        },
        "outputId": "bd8fe5ba-9088-4264-d472-65b1068ea545"
      },
      "source": [
        "!pip install pyspark"
      ],
      "execution_count": 1,
      "outputs": [
        {
          "output_type": "stream",
          "text": [
            "Collecting pyspark\n",
            "\u001b[?25l  Downloading https://files.pythonhosted.org/packages/45/b0/9d6860891ab14a39d4bddf80ba26ce51c2f9dc4805e5c6978ac0472c120a/pyspark-3.1.1.tar.gz (212.3MB)\n",
            "\u001b[K     |████████████████████████████████| 212.3MB 67kB/s \n",
            "\u001b[?25hCollecting py4j==0.10.9\n",
            "\u001b[?25l  Downloading https://files.pythonhosted.org/packages/9e/b6/6a4fb90cd235dc8e265a6a2067f2a2c99f0d91787f06aca4bcf7c23f3f80/py4j-0.10.9-py2.py3-none-any.whl (198kB)\n",
            "\u001b[K     |████████████████████████████████| 204kB 42.4MB/s \n",
            "\u001b[?25hBuilding wheels for collected packages: pyspark\n",
            "  Building wheel for pyspark (setup.py) ... \u001b[?25l\u001b[?25hdone\n",
            "  Created wheel for pyspark: filename=pyspark-3.1.1-py2.py3-none-any.whl size=212767604 sha256=b3cc3c79392bb7800dbe576eac50e2ed0a7537ddd2453cdf45f78206ec5901ac\n",
            "  Stored in directory: /root/.cache/pip/wheels/0b/90/c0/01de724414ef122bd05f056541fb6a0ecf47c7ca655f8b3c0f\n",
            "Successfully built pyspark\n",
            "Installing collected packages: py4j, pyspark\n",
            "Successfully installed py4j-0.10.9 pyspark-3.1.1\n"
          ],
          "name": "stdout"
        }
      ]
    },
    {
      "cell_type": "code",
      "metadata": {
        "id": "rMfEaUEgj5A-"
      },
      "source": [
        "from pyspark.sql import SparkSession\n",
        "spark = SparkSession.builder.appName('ML project').getOrCreate()"
      ],
      "execution_count": 2,
      "outputs": []
    },
    {
      "cell_type": "code",
      "metadata": {
        "colab": {
          "base_uri": "https://localhost:8080/"
        },
        "id": "QX_Nunf0kl7-",
        "outputId": "e3f9714f-318e-4961-ecb7-1d40241586ab"
      },
      "source": [
        "# load data \n",
        "df = spark.read.csv('iris.data', header = True, inferSchema = True)\n",
        "df.printSchema()"
      ],
      "execution_count": 14,
      "outputs": [
        {
          "output_type": "stream",
          "text": [
            "root\n",
            " |-- 5.1: double (nullable = true)\n",
            " |-- 3.5: double (nullable = true)\n",
            " |-- 1.4: double (nullable = true)\n",
            " |-- 0.2: double (nullable = true)\n",
            " |-- Iris-setosa: string (nullable = true)\n",
            "\n"
          ],
          "name": "stdout"
        }
      ]
    },
    {
      "cell_type": "code",
      "metadata": {
        "id": "WXLKEqa4_PXX",
        "colab": {
          "base_uri": "https://localhost:8080/"
        },
        "outputId": "37ebe496-5ae0-4ed2-ba13-1f3e795fbb80"
      },
      "source": [
        "k=len(df.columns)\n",
        "for i in range(k):\n",
        "  old_name = df.columns[i]\n",
        "  new_name = 'f'+str(i)\n",
        "  print(old_name,new_name)\n",
        "  df=df.withColumnRenamed(old_name,new_name)"
      ],
      "execution_count": 15,
      "outputs": [
        {
          "output_type": "stream",
          "text": [
            "5.1 f0\n",
            "3.5 f1\n",
            "1.4 f2\n",
            "0.2 f3\n",
            "Iris-setosa f4\n"
          ],
          "name": "stdout"
        }
      ]
    },
    {
      "cell_type": "code",
      "metadata": {
        "colab": {
          "base_uri": "https://localhost:8080/"
        },
        "id": "G4-iF40NA5zK",
        "outputId": "cc8eb79e-9e0c-4a96-c01e-2787dc3e03bf"
      },
      "source": [
        "df.show()"
      ],
      "execution_count": 16,
      "outputs": [
        {
          "output_type": "stream",
          "text": [
            "+---+---+---+---+-----------+\n",
            "| f0| f1| f2| f3|         f4|\n",
            "+---+---+---+---+-----------+\n",
            "|4.9|3.0|1.4|0.2|Iris-setosa|\n",
            "|4.7|3.2|1.3|0.2|Iris-setosa|\n",
            "|4.6|3.1|1.5|0.2|Iris-setosa|\n",
            "|5.0|3.6|1.4|0.2|Iris-setosa|\n",
            "|5.4|3.9|1.7|0.4|Iris-setosa|\n",
            "|4.6|3.4|1.4|0.3|Iris-setosa|\n",
            "|5.0|3.4|1.5|0.2|Iris-setosa|\n",
            "|4.4|2.9|1.4|0.2|Iris-setosa|\n",
            "|4.9|3.1|1.5|0.1|Iris-setosa|\n",
            "|5.4|3.7|1.5|0.2|Iris-setosa|\n",
            "|4.8|3.4|1.6|0.2|Iris-setosa|\n",
            "|4.8|3.0|1.4|0.1|Iris-setosa|\n",
            "|4.3|3.0|1.1|0.1|Iris-setosa|\n",
            "|5.8|4.0|1.2|0.2|Iris-setosa|\n",
            "|5.7|4.4|1.5|0.4|Iris-setosa|\n",
            "|5.4|3.9|1.3|0.4|Iris-setosa|\n",
            "|5.1|3.5|1.4|0.3|Iris-setosa|\n",
            "|5.7|3.8|1.7|0.3|Iris-setosa|\n",
            "|5.1|3.8|1.5|0.3|Iris-setosa|\n",
            "|5.4|3.4|1.7|0.2|Iris-setosa|\n",
            "+---+---+---+---+-----------+\n",
            "only showing top 20 rows\n",
            "\n"
          ],
          "name": "stdout"
        }
      ]
    },
    {
      "cell_type": "code",
      "metadata": {
        "colab": {
          "base_uri": "https://localhost:8080/",
          "height": 204
        },
        "id": "de87gxp6kqrA",
        "outputId": "17f459d5-aa89-4bad-fcca-50f973ab6bb0"
      },
      "source": [
        "# Show Dataset in DataFrame\n",
        "import pandas as pd\n",
        "pd.DataFrame(df.take(5), columns=df.columns).transpose()"
      ],
      "execution_count": 18,
      "outputs": [
        {
          "output_type": "execute_result",
          "data": {
            "text/html": [
              "<div>\n",
              "<style scoped>\n",
              "    .dataframe tbody tr th:only-of-type {\n",
              "        vertical-align: middle;\n",
              "    }\n",
              "\n",
              "    .dataframe tbody tr th {\n",
              "        vertical-align: top;\n",
              "    }\n",
              "\n",
              "    .dataframe thead th {\n",
              "        text-align: right;\n",
              "    }\n",
              "</style>\n",
              "<table border=\"1\" class=\"dataframe\">\n",
              "  <thead>\n",
              "    <tr style=\"text-align: right;\">\n",
              "      <th></th>\n",
              "      <th>0</th>\n",
              "      <th>1</th>\n",
              "      <th>2</th>\n",
              "      <th>3</th>\n",
              "      <th>4</th>\n",
              "    </tr>\n",
              "  </thead>\n",
              "  <tbody>\n",
              "    <tr>\n",
              "      <th>f0</th>\n",
              "      <td>4.9</td>\n",
              "      <td>4.7</td>\n",
              "      <td>4.6</td>\n",
              "      <td>5</td>\n",
              "      <td>5.4</td>\n",
              "    </tr>\n",
              "    <tr>\n",
              "      <th>f1</th>\n",
              "      <td>3</td>\n",
              "      <td>3.2</td>\n",
              "      <td>3.1</td>\n",
              "      <td>3.6</td>\n",
              "      <td>3.9</td>\n",
              "    </tr>\n",
              "    <tr>\n",
              "      <th>f2</th>\n",
              "      <td>1.4</td>\n",
              "      <td>1.3</td>\n",
              "      <td>1.5</td>\n",
              "      <td>1.4</td>\n",
              "      <td>1.7</td>\n",
              "    </tr>\n",
              "    <tr>\n",
              "      <th>f3</th>\n",
              "      <td>0.2</td>\n",
              "      <td>0.2</td>\n",
              "      <td>0.2</td>\n",
              "      <td>0.2</td>\n",
              "      <td>0.4</td>\n",
              "    </tr>\n",
              "    <tr>\n",
              "      <th>f4</th>\n",
              "      <td>Iris-setosa</td>\n",
              "      <td>Iris-setosa</td>\n",
              "      <td>Iris-setosa</td>\n",
              "      <td>Iris-setosa</td>\n",
              "      <td>Iris-setosa</td>\n",
              "    </tr>\n",
              "  </tbody>\n",
              "</table>\n",
              "</div>"
            ],
            "text/plain": [
              "              0            1            2            3            4\n",
              "f0          4.9          4.7          4.6            5          5.4\n",
              "f1            3          3.2          3.1          3.6          3.9\n",
              "f2          1.4          1.3          1.5          1.4          1.7\n",
              "f3          0.2          0.2          0.2          0.2          0.4\n",
              "f4  Iris-setosa  Iris-setosa  Iris-setosa  Iris-setosa  Iris-setosa"
            ]
          },
          "metadata": {
            "tags": []
          },
          "execution_count": 18
        }
      ]
    },
    {
      "cell_type": "code",
      "metadata": {
        "colab": {
          "base_uri": "https://localhost:8080/",
          "height": 142
        },
        "id": "kGzNZkJbmdpd",
        "outputId": "a63c4eba-ade0-4caf-a686-849990da940b"
      },
      "source": [
        "# Data grouping by class \n",
        "class_name = df.columns[len(df.columns)-1]\n",
        "df.groupby(class_name).count().toPandas()"
      ],
      "execution_count": 19,
      "outputs": [
        {
          "output_type": "execute_result",
          "data": {
            "text/html": [
              "<div>\n",
              "<style scoped>\n",
              "    .dataframe tbody tr th:only-of-type {\n",
              "        vertical-align: middle;\n",
              "    }\n",
              "\n",
              "    .dataframe tbody tr th {\n",
              "        vertical-align: top;\n",
              "    }\n",
              "\n",
              "    .dataframe thead th {\n",
              "        text-align: right;\n",
              "    }\n",
              "</style>\n",
              "<table border=\"1\" class=\"dataframe\">\n",
              "  <thead>\n",
              "    <tr style=\"text-align: right;\">\n",
              "      <th></th>\n",
              "      <th>f4</th>\n",
              "      <th>count</th>\n",
              "    </tr>\n",
              "  </thead>\n",
              "  <tbody>\n",
              "    <tr>\n",
              "      <th>0</th>\n",
              "      <td>Iris-virginica</td>\n",
              "      <td>50</td>\n",
              "    </tr>\n",
              "    <tr>\n",
              "      <th>1</th>\n",
              "      <td>Iris-setosa</td>\n",
              "      <td>49</td>\n",
              "    </tr>\n",
              "    <tr>\n",
              "      <th>2</th>\n",
              "      <td>Iris-versicolor</td>\n",
              "      <td>50</td>\n",
              "    </tr>\n",
              "  </tbody>\n",
              "</table>\n",
              "</div>"
            ],
            "text/plain": [
              "                f4  count\n",
              "0   Iris-virginica     50\n",
              "1      Iris-setosa     49\n",
              "2  Iris-versicolor     50"
            ]
          },
          "metadata": {
            "tags": []
          },
          "execution_count": 19
        }
      ]
    },
    {
      "cell_type": "code",
      "metadata": {
        "id": "pXDl0PEbDTPs"
      },
      "source": [
        "# convert string to numeric \n",
        "from pyspark.ml.feature import StringIndexer\n",
        "indexer = StringIndexer()\n",
        "indexer.setInputCol(class_name).setOutputCol(\"label\")\n",
        "df1 = indexer.fit(df).transform(df)\n"
      ],
      "execution_count": 21,
      "outputs": []
    },
    {
      "cell_type": "code",
      "metadata": {
        "colab": {
          "base_uri": "https://localhost:8080/"
        },
        "id": "YniicMYpEj6c",
        "outputId": "b0b050b9-ad9e-4484-d3f7-151987d74317"
      },
      "source": [
        "df1.show()"
      ],
      "execution_count": 22,
      "outputs": [
        {
          "output_type": "stream",
          "text": [
            "+---+---+---+---+-----------+-----+\n",
            "| f0| f1| f2| f3|         f4|label|\n",
            "+---+---+---+---+-----------+-----+\n",
            "|4.9|3.0|1.4|0.2|Iris-setosa|  2.0|\n",
            "|4.7|3.2|1.3|0.2|Iris-setosa|  2.0|\n",
            "|4.6|3.1|1.5|0.2|Iris-setosa|  2.0|\n",
            "|5.0|3.6|1.4|0.2|Iris-setosa|  2.0|\n",
            "|5.4|3.9|1.7|0.4|Iris-setosa|  2.0|\n",
            "|4.6|3.4|1.4|0.3|Iris-setosa|  2.0|\n",
            "|5.0|3.4|1.5|0.2|Iris-setosa|  2.0|\n",
            "|4.4|2.9|1.4|0.2|Iris-setosa|  2.0|\n",
            "|4.9|3.1|1.5|0.1|Iris-setosa|  2.0|\n",
            "|5.4|3.7|1.5|0.2|Iris-setosa|  2.0|\n",
            "|4.8|3.4|1.6|0.2|Iris-setosa|  2.0|\n",
            "|4.8|3.0|1.4|0.1|Iris-setosa|  2.0|\n",
            "|4.3|3.0|1.1|0.1|Iris-setosa|  2.0|\n",
            "|5.8|4.0|1.2|0.2|Iris-setosa|  2.0|\n",
            "|5.7|4.4|1.5|0.4|Iris-setosa|  2.0|\n",
            "|5.4|3.9|1.3|0.4|Iris-setosa|  2.0|\n",
            "|5.1|3.5|1.4|0.3|Iris-setosa|  2.0|\n",
            "|5.7|3.8|1.7|0.3|Iris-setosa|  2.0|\n",
            "|5.1|3.8|1.5|0.3|Iris-setosa|  2.0|\n",
            "|5.4|3.4|1.7|0.2|Iris-setosa|  2.0|\n",
            "+---+---+---+---+-----------+-----+\n",
            "only showing top 20 rows\n",
            "\n"
          ],
          "name": "stdout"
        }
      ]
    },
    {
      "cell_type": "code",
      "metadata": {
        "id": "_0SmzsUPnLkQ"
      },
      "source": [
        "# Split the data\n",
        "(training_data, test_data) = df1.randomSplit([0.8,0.2])"
      ],
      "execution_count": 23,
      "outputs": []
    },
    {
      "cell_type": "code",
      "metadata": {
        "colab": {
          "base_uri": "https://localhost:8080/",
          "height": 419
        },
        "id": "8UMP2HRxngOl",
        "outputId": "eac62119-c7b4-4eac-85e0-3a514ee32a91"
      },
      "source": [
        "training_data.toPandas()"
      ],
      "execution_count": 24,
      "outputs": [
        {
          "output_type": "execute_result",
          "data": {
            "text/html": [
              "<div>\n",
              "<style scoped>\n",
              "    .dataframe tbody tr th:only-of-type {\n",
              "        vertical-align: middle;\n",
              "    }\n",
              "\n",
              "    .dataframe tbody tr th {\n",
              "        vertical-align: top;\n",
              "    }\n",
              "\n",
              "    .dataframe thead th {\n",
              "        text-align: right;\n",
              "    }\n",
              "</style>\n",
              "<table border=\"1\" class=\"dataframe\">\n",
              "  <thead>\n",
              "    <tr style=\"text-align: right;\">\n",
              "      <th></th>\n",
              "      <th>f0</th>\n",
              "      <th>f1</th>\n",
              "      <th>f2</th>\n",
              "      <th>f3</th>\n",
              "      <th>f4</th>\n",
              "      <th>label</th>\n",
              "    </tr>\n",
              "  </thead>\n",
              "  <tbody>\n",
              "    <tr>\n",
              "      <th>0</th>\n",
              "      <td>4.3</td>\n",
              "      <td>3.0</td>\n",
              "      <td>1.1</td>\n",
              "      <td>0.1</td>\n",
              "      <td>Iris-setosa</td>\n",
              "      <td>2.0</td>\n",
              "    </tr>\n",
              "    <tr>\n",
              "      <th>1</th>\n",
              "      <td>4.4</td>\n",
              "      <td>2.9</td>\n",
              "      <td>1.4</td>\n",
              "      <td>0.2</td>\n",
              "      <td>Iris-setosa</td>\n",
              "      <td>2.0</td>\n",
              "    </tr>\n",
              "    <tr>\n",
              "      <th>2</th>\n",
              "      <td>4.4</td>\n",
              "      <td>3.0</td>\n",
              "      <td>1.3</td>\n",
              "      <td>0.2</td>\n",
              "      <td>Iris-setosa</td>\n",
              "      <td>2.0</td>\n",
              "    </tr>\n",
              "    <tr>\n",
              "      <th>3</th>\n",
              "      <td>4.4</td>\n",
              "      <td>3.2</td>\n",
              "      <td>1.3</td>\n",
              "      <td>0.2</td>\n",
              "      <td>Iris-setosa</td>\n",
              "      <td>2.0</td>\n",
              "    </tr>\n",
              "    <tr>\n",
              "      <th>4</th>\n",
              "      <td>4.5</td>\n",
              "      <td>2.3</td>\n",
              "      <td>1.3</td>\n",
              "      <td>0.3</td>\n",
              "      <td>Iris-setosa</td>\n",
              "      <td>2.0</td>\n",
              "    </tr>\n",
              "    <tr>\n",
              "      <th>...</th>\n",
              "      <td>...</td>\n",
              "      <td>...</td>\n",
              "      <td>...</td>\n",
              "      <td>...</td>\n",
              "      <td>...</td>\n",
              "      <td>...</td>\n",
              "    </tr>\n",
              "    <tr>\n",
              "      <th>114</th>\n",
              "      <td>7.4</td>\n",
              "      <td>2.8</td>\n",
              "      <td>6.1</td>\n",
              "      <td>1.9</td>\n",
              "      <td>Iris-virginica</td>\n",
              "      <td>1.0</td>\n",
              "    </tr>\n",
              "    <tr>\n",
              "      <th>115</th>\n",
              "      <td>7.6</td>\n",
              "      <td>3.0</td>\n",
              "      <td>6.6</td>\n",
              "      <td>2.1</td>\n",
              "      <td>Iris-virginica</td>\n",
              "      <td>1.0</td>\n",
              "    </tr>\n",
              "    <tr>\n",
              "      <th>116</th>\n",
              "      <td>7.7</td>\n",
              "      <td>2.6</td>\n",
              "      <td>6.9</td>\n",
              "      <td>2.3</td>\n",
              "      <td>Iris-virginica</td>\n",
              "      <td>1.0</td>\n",
              "    </tr>\n",
              "    <tr>\n",
              "      <th>117</th>\n",
              "      <td>7.7</td>\n",
              "      <td>2.8</td>\n",
              "      <td>6.7</td>\n",
              "      <td>2.0</td>\n",
              "      <td>Iris-virginica</td>\n",
              "      <td>1.0</td>\n",
              "    </tr>\n",
              "    <tr>\n",
              "      <th>118</th>\n",
              "      <td>7.7</td>\n",
              "      <td>3.8</td>\n",
              "      <td>6.7</td>\n",
              "      <td>2.2</td>\n",
              "      <td>Iris-virginica</td>\n",
              "      <td>1.0</td>\n",
              "    </tr>\n",
              "  </tbody>\n",
              "</table>\n",
              "<p>119 rows × 6 columns</p>\n",
              "</div>"
            ],
            "text/plain": [
              "      f0   f1   f2   f3              f4  label\n",
              "0    4.3  3.0  1.1  0.1     Iris-setosa    2.0\n",
              "1    4.4  2.9  1.4  0.2     Iris-setosa    2.0\n",
              "2    4.4  3.0  1.3  0.2     Iris-setosa    2.0\n",
              "3    4.4  3.2  1.3  0.2     Iris-setosa    2.0\n",
              "4    4.5  2.3  1.3  0.3     Iris-setosa    2.0\n",
              "..   ...  ...  ...  ...             ...    ...\n",
              "114  7.4  2.8  6.1  1.9  Iris-virginica    1.0\n",
              "115  7.6  3.0  6.6  2.1  Iris-virginica    1.0\n",
              "116  7.7  2.6  6.9  2.3  Iris-virginica    1.0\n",
              "117  7.7  2.8  6.7  2.0  Iris-virginica    1.0\n",
              "118  7.7  3.8  6.7  2.2  Iris-virginica    1.0\n",
              "\n",
              "[119 rows x 6 columns]"
            ]
          },
          "metadata": {
            "tags": []
          },
          "execution_count": 24
        }
      ]
    },
    {
      "cell_type": "code",
      "metadata": {
        "colab": {
          "base_uri": "https://localhost:8080/"
        },
        "id": "YZM3tjtfoURi",
        "outputId": "0cf2e9dd-1547-4231-d970-751dcbc5b712"
      },
      "source": [
        "# features and class \n",
        "class_name = 'label'\n",
        "feature_names = df.columns[:-1]\n",
        "print(class_name)\n",
        "print(feature_names)"
      ],
      "execution_count": 25,
      "outputs": [
        {
          "output_type": "stream",
          "text": [
            "label\n",
            "['f0', 'f1', 'f2', 'f3']\n"
          ],
          "name": "stdout"
        }
      ]
    },
    {
      "cell_type": "code",
      "metadata": {
        "id": "ghq-y03buNuZ"
      },
      "source": [
        "from pyspark.ml.feature import VectorAssembler\n",
        "\n",
        "assembler = VectorAssembler()\n",
        "assembler.setInputCols(feature_names).setOutputCol('features')\n",
        "\n",
        "transformed_data = assembler.transform(df1)"
      ],
      "execution_count": 26,
      "outputs": []
    },
    {
      "cell_type": "code",
      "metadata": {
        "colab": {
          "base_uri": "https://localhost:8080/"
        },
        "id": "P955k-7Pu00v",
        "outputId": "ba9a1da3-817a-4a96-e8b5-7a1006edd3dd"
      },
      "source": [
        "transformed_data.show()"
      ],
      "execution_count": 27,
      "outputs": [
        {
          "output_type": "stream",
          "text": [
            "+---+---+---+---+-----------+-----+-----------------+\n",
            "| f0| f1| f2| f3|         f4|label|         features|\n",
            "+---+---+---+---+-----------+-----+-----------------+\n",
            "|4.9|3.0|1.4|0.2|Iris-setosa|  2.0|[4.9,3.0,1.4,0.2]|\n",
            "|4.7|3.2|1.3|0.2|Iris-setosa|  2.0|[4.7,3.2,1.3,0.2]|\n",
            "|4.6|3.1|1.5|0.2|Iris-setosa|  2.0|[4.6,3.1,1.5,0.2]|\n",
            "|5.0|3.6|1.4|0.2|Iris-setosa|  2.0|[5.0,3.6,1.4,0.2]|\n",
            "|5.4|3.9|1.7|0.4|Iris-setosa|  2.0|[5.4,3.9,1.7,0.4]|\n",
            "|4.6|3.4|1.4|0.3|Iris-setosa|  2.0|[4.6,3.4,1.4,0.3]|\n",
            "|5.0|3.4|1.5|0.2|Iris-setosa|  2.0|[5.0,3.4,1.5,0.2]|\n",
            "|4.4|2.9|1.4|0.2|Iris-setosa|  2.0|[4.4,2.9,1.4,0.2]|\n",
            "|4.9|3.1|1.5|0.1|Iris-setosa|  2.0|[4.9,3.1,1.5,0.1]|\n",
            "|5.4|3.7|1.5|0.2|Iris-setosa|  2.0|[5.4,3.7,1.5,0.2]|\n",
            "|4.8|3.4|1.6|0.2|Iris-setosa|  2.0|[4.8,3.4,1.6,0.2]|\n",
            "|4.8|3.0|1.4|0.1|Iris-setosa|  2.0|[4.8,3.0,1.4,0.1]|\n",
            "|4.3|3.0|1.1|0.1|Iris-setosa|  2.0|[4.3,3.0,1.1,0.1]|\n",
            "|5.8|4.0|1.2|0.2|Iris-setosa|  2.0|[5.8,4.0,1.2,0.2]|\n",
            "|5.7|4.4|1.5|0.4|Iris-setosa|  2.0|[5.7,4.4,1.5,0.4]|\n",
            "|5.4|3.9|1.3|0.4|Iris-setosa|  2.0|[5.4,3.9,1.3,0.4]|\n",
            "|5.1|3.5|1.4|0.3|Iris-setosa|  2.0|[5.1,3.5,1.4,0.3]|\n",
            "|5.7|3.8|1.7|0.3|Iris-setosa|  2.0|[5.7,3.8,1.7,0.3]|\n",
            "|5.1|3.8|1.5|0.3|Iris-setosa|  2.0|[5.1,3.8,1.5,0.3]|\n",
            "|5.4|3.4|1.7|0.2|Iris-setosa|  2.0|[5.4,3.4,1.7,0.2]|\n",
            "+---+---+---+---+-----------+-----+-----------------+\n",
            "only showing top 20 rows\n",
            "\n"
          ],
          "name": "stdout"
        }
      ]
    },
    {
      "cell_type": "code",
      "metadata": {
        "id": "eUGbwhoUBqpJ",
        "colab": {
          "base_uri": "https://localhost:8080/"
        },
        "outputId": "7b4a39b8-9585-4d85-c2a6-caea7b74036f"
      },
      "source": [
        "# Split the data\n",
        "(training_data, test_data) = transformed_data.randomSplit([0.8,0.2], seed = 51800430)\n",
        "print(\"Training Dataset Count: \" + str(training_data.count()))\n",
        "print(\"Test Dataset Count: \" + str(test_data.count()))"
      ],
      "execution_count": 28,
      "outputs": [
        {
          "output_type": "stream",
          "text": [
            "Training Dataset Count: 119\n",
            "Test Dataset Count: 30\n"
          ],
          "name": "stdout"
        }
      ]
    },
    {
      "cell_type": "code",
      "metadata": {
        "colab": {
          "base_uri": "https://localhost:8080/",
          "height": 419
        },
        "id": "TAKrhjYygY6n",
        "outputId": "8c74d983-1c5d-4834-fd04-6b05ab634c1e"
      },
      "source": [
        "training_data.toPandas()"
      ],
      "execution_count": 29,
      "outputs": [
        {
          "output_type": "execute_result",
          "data": {
            "text/html": [
              "<div>\n",
              "<style scoped>\n",
              "    .dataframe tbody tr th:only-of-type {\n",
              "        vertical-align: middle;\n",
              "    }\n",
              "\n",
              "    .dataframe tbody tr th {\n",
              "        vertical-align: top;\n",
              "    }\n",
              "\n",
              "    .dataframe thead th {\n",
              "        text-align: right;\n",
              "    }\n",
              "</style>\n",
              "<table border=\"1\" class=\"dataframe\">\n",
              "  <thead>\n",
              "    <tr style=\"text-align: right;\">\n",
              "      <th></th>\n",
              "      <th>f0</th>\n",
              "      <th>f1</th>\n",
              "      <th>f2</th>\n",
              "      <th>f3</th>\n",
              "      <th>f4</th>\n",
              "      <th>label</th>\n",
              "      <th>features</th>\n",
              "    </tr>\n",
              "  </thead>\n",
              "  <tbody>\n",
              "    <tr>\n",
              "      <th>0</th>\n",
              "      <td>4.4</td>\n",
              "      <td>2.9</td>\n",
              "      <td>1.4</td>\n",
              "      <td>0.2</td>\n",
              "      <td>Iris-setosa</td>\n",
              "      <td>2.0</td>\n",
              "      <td>[4.4, 2.9, 1.4, 0.2]</td>\n",
              "    </tr>\n",
              "    <tr>\n",
              "      <th>1</th>\n",
              "      <td>4.4</td>\n",
              "      <td>3.0</td>\n",
              "      <td>1.3</td>\n",
              "      <td>0.2</td>\n",
              "      <td>Iris-setosa</td>\n",
              "      <td>2.0</td>\n",
              "      <td>[4.4, 3.0, 1.3, 0.2]</td>\n",
              "    </tr>\n",
              "    <tr>\n",
              "      <th>2</th>\n",
              "      <td>4.5</td>\n",
              "      <td>2.3</td>\n",
              "      <td>1.3</td>\n",
              "      <td>0.3</td>\n",
              "      <td>Iris-setosa</td>\n",
              "      <td>2.0</td>\n",
              "      <td>[4.5, 2.3, 1.3, 0.3]</td>\n",
              "    </tr>\n",
              "    <tr>\n",
              "      <th>3</th>\n",
              "      <td>4.6</td>\n",
              "      <td>3.1</td>\n",
              "      <td>1.5</td>\n",
              "      <td>0.2</td>\n",
              "      <td>Iris-setosa</td>\n",
              "      <td>2.0</td>\n",
              "      <td>[4.6, 3.1, 1.5, 0.2]</td>\n",
              "    </tr>\n",
              "    <tr>\n",
              "      <th>4</th>\n",
              "      <td>4.6</td>\n",
              "      <td>3.2</td>\n",
              "      <td>1.4</td>\n",
              "      <td>0.2</td>\n",
              "      <td>Iris-setosa</td>\n",
              "      <td>2.0</td>\n",
              "      <td>[4.6, 3.2, 1.4, 0.2]</td>\n",
              "    </tr>\n",
              "    <tr>\n",
              "      <th>...</th>\n",
              "      <td>...</td>\n",
              "      <td>...</td>\n",
              "      <td>...</td>\n",
              "      <td>...</td>\n",
              "      <td>...</td>\n",
              "      <td>...</td>\n",
              "      <td>...</td>\n",
              "    </tr>\n",
              "    <tr>\n",
              "      <th>114</th>\n",
              "      <td>7.7</td>\n",
              "      <td>2.6</td>\n",
              "      <td>6.9</td>\n",
              "      <td>2.3</td>\n",
              "      <td>Iris-virginica</td>\n",
              "      <td>1.0</td>\n",
              "      <td>[7.7, 2.6, 6.9, 2.3]</td>\n",
              "    </tr>\n",
              "    <tr>\n",
              "      <th>115</th>\n",
              "      <td>7.7</td>\n",
              "      <td>2.8</td>\n",
              "      <td>6.7</td>\n",
              "      <td>2.0</td>\n",
              "      <td>Iris-virginica</td>\n",
              "      <td>1.0</td>\n",
              "      <td>[7.7, 2.8, 6.7, 2.0]</td>\n",
              "    </tr>\n",
              "    <tr>\n",
              "      <th>116</th>\n",
              "      <td>7.7</td>\n",
              "      <td>3.0</td>\n",
              "      <td>6.1</td>\n",
              "      <td>2.3</td>\n",
              "      <td>Iris-virginica</td>\n",
              "      <td>1.0</td>\n",
              "      <td>[7.7, 3.0, 6.1, 2.3]</td>\n",
              "    </tr>\n",
              "    <tr>\n",
              "      <th>117</th>\n",
              "      <td>7.7</td>\n",
              "      <td>3.8</td>\n",
              "      <td>6.7</td>\n",
              "      <td>2.2</td>\n",
              "      <td>Iris-virginica</td>\n",
              "      <td>1.0</td>\n",
              "      <td>[7.7, 3.8, 6.7, 2.2]</td>\n",
              "    </tr>\n",
              "    <tr>\n",
              "      <th>118</th>\n",
              "      <td>7.9</td>\n",
              "      <td>3.8</td>\n",
              "      <td>6.4</td>\n",
              "      <td>2.0</td>\n",
              "      <td>Iris-virginica</td>\n",
              "      <td>1.0</td>\n",
              "      <td>[7.9, 3.8, 6.4, 2.0]</td>\n",
              "    </tr>\n",
              "  </tbody>\n",
              "</table>\n",
              "<p>119 rows × 7 columns</p>\n",
              "</div>"
            ],
            "text/plain": [
              "      f0   f1   f2   f3              f4  label              features\n",
              "0    4.4  2.9  1.4  0.2     Iris-setosa    2.0  [4.4, 2.9, 1.4, 0.2]\n",
              "1    4.4  3.0  1.3  0.2     Iris-setosa    2.0  [4.4, 3.0, 1.3, 0.2]\n",
              "2    4.5  2.3  1.3  0.3     Iris-setosa    2.0  [4.5, 2.3, 1.3, 0.3]\n",
              "3    4.6  3.1  1.5  0.2     Iris-setosa    2.0  [4.6, 3.1, 1.5, 0.2]\n",
              "4    4.6  3.2  1.4  0.2     Iris-setosa    2.0  [4.6, 3.2, 1.4, 0.2]\n",
              "..   ...  ...  ...  ...             ...    ...                   ...\n",
              "114  7.7  2.6  6.9  2.3  Iris-virginica    1.0  [7.7, 2.6, 6.9, 2.3]\n",
              "115  7.7  2.8  6.7  2.0  Iris-virginica    1.0  [7.7, 2.8, 6.7, 2.0]\n",
              "116  7.7  3.0  6.1  2.3  Iris-virginica    1.0  [7.7, 3.0, 6.1, 2.3]\n",
              "117  7.7  3.8  6.7  2.2  Iris-virginica    1.0  [7.7, 3.8, 6.7, 2.2]\n",
              "118  7.9  3.8  6.4  2.0  Iris-virginica    1.0  [7.9, 3.8, 6.4, 2.0]\n",
              "\n",
              "[119 rows x 7 columns]"
            ]
          },
          "metadata": {
            "tags": []
          },
          "execution_count": 29
        }
      ]
    },
    {
      "cell_type": "code",
      "metadata": {
        "id": "LpLYf4Tab8sX"
      },
      "source": [
        "# Define the model\n",
        "from pyspark.ml.classification import RandomForestClassifier\n",
        "\n",
        "rf = RandomForestClassifier(labelCol='label', \n",
        "                            featuresCol='features',\n",
        "                            maxDepth=5)"
      ],
      "execution_count": 30,
      "outputs": []
    },
    {
      "cell_type": "code",
      "metadata": {
        "id": "JGJMwmNQcugy"
      },
      "source": [
        "# Fit the model\n",
        "model = rf.fit(training_data)"
      ],
      "execution_count": 31,
      "outputs": []
    },
    {
      "cell_type": "code",
      "metadata": {
        "id": "6ZMelInnczYa"
      },
      "source": [
        "# Predict with the test dataset\n",
        "rf_predictions = model.transform(test_data)"
      ],
      "execution_count": 32,
      "outputs": []
    },
    {
      "cell_type": "code",
      "metadata": {
        "colab": {
          "base_uri": "https://localhost:8080/"
        },
        "id": "k2O1qb3Cc1sK",
        "outputId": "fdbdc71b-2977-4042-d022-19abfad25493"
      },
      "source": [
        "from pyspark.ml.evaluation import MulticlassClassificationEvaluator\n",
        "\n",
        "multi_evaluator = MulticlassClassificationEvaluator(labelCol = 'label', metricName = 'accuracy')\n",
        "print('Random Forest classifier Accuracy:', multi_evaluator.evaluate(rf_predictions))"
      ],
      "execution_count": 33,
      "outputs": [
        {
          "output_type": "stream",
          "text": [
            "Random Forest classifier Accuracy: 0.9666666666666667\n"
          ],
          "name": "stdout"
        }
      ]
    },
    {
      "cell_type": "code",
      "metadata": {
        "colab": {
          "base_uri": "https://localhost:8080/"
        },
        "id": "E7DBUpS-c757",
        "outputId": "8e7cbe68-e0d3-4ec1-a637-1118a6bf3832"
      },
      "source": [
        "from pyspark.ml.classification import DecisionTreeClassifier\n",
        "\n",
        "dt = DecisionTreeClassifier(featuresCol = 'features', labelCol = 'label', maxDepth = 3)\n",
        "dtModel = dt.fit(training_data)\n",
        "dt_predictions = dtModel.transform(test_data)\n",
        "dt_predictions.show(10)"
      ],
      "execution_count": 35,
      "outputs": [
        {
          "output_type": "stream",
          "text": [
            "+---+---+---+---+---------------+-----+-----------------+--------------+-------------+----------+\n",
            "| f0| f1| f2| f3|             f4|label|         features| rawPrediction|  probability|prediction|\n",
            "+---+---+---+---+---------------+-----+-----------------+--------------+-------------+----------+\n",
            "|4.3|3.0|1.1|0.1|    Iris-setosa|  2.0|[4.3,3.0,1.1,0.1]|[0.0,0.0,39.0]|[0.0,0.0,1.0]|       2.0|\n",
            "|4.4|3.2|1.3|0.2|    Iris-setosa|  2.0|[4.4,3.2,1.3,0.2]|[0.0,0.0,39.0]|[0.0,0.0,1.0]|       2.0|\n",
            "|4.6|3.6|1.0|0.2|    Iris-setosa|  2.0|[4.6,3.6,1.0,0.2]|[0.0,0.0,39.0]|[0.0,0.0,1.0]|       2.0|\n",
            "|4.9|2.5|4.5|1.7| Iris-virginica|  1.0|[4.9,2.5,4.5,1.7]|[37.0,0.0,0.0]|[1.0,0.0,0.0]|       0.0|\n",
            "|4.9|3.1|1.5|0.1|    Iris-setosa|  2.0|[4.9,3.1,1.5,0.1]|[0.0,0.0,39.0]|[0.0,0.0,1.0]|       2.0|\n",
            "|4.9|3.1|1.5|0.1|    Iris-setosa|  2.0|[4.9,3.1,1.5,0.1]|[0.0,0.0,39.0]|[0.0,0.0,1.0]|       2.0|\n",
            "|4.9|3.1|1.5|0.1|    Iris-setosa|  2.0|[4.9,3.1,1.5,0.1]|[0.0,0.0,39.0]|[0.0,0.0,1.0]|       2.0|\n",
            "|5.0|2.0|3.5|1.0|Iris-versicolor|  0.0|[5.0,2.0,3.5,1.0]|[37.0,0.0,0.0]|[1.0,0.0,0.0]|       0.0|\n",
            "|5.0|3.4|1.6|0.4|    Iris-setosa|  2.0|[5.0,3.4,1.6,0.4]|[0.0,0.0,39.0]|[0.0,0.0,1.0]|       2.0|\n",
            "|5.0|3.5|1.6|0.6|    Iris-setosa|  2.0|[5.0,3.5,1.6,0.6]|[0.0,0.0,39.0]|[0.0,0.0,1.0]|       2.0|\n",
            "+---+---+---+---+---------------+-----+-----------------+--------------+-------------+----------+\n",
            "only showing top 10 rows\n",
            "\n"
          ],
          "name": "stdout"
        }
      ]
    },
    {
      "cell_type": "code",
      "metadata": {
        "colab": {
          "base_uri": "https://localhost:8080/"
        },
        "id": "GI5UqyxVdIeT",
        "outputId": "d2e832d1-ddb1-46b0-ce81-a3b93123db03"
      },
      "source": [
        "from pyspark.ml.evaluation import MulticlassClassificationEvaluator\n",
        "\n",
        "multi_evaluator = MulticlassClassificationEvaluator(labelCol = 'label', metricName = 'accuracy')\n",
        "print('Decision Tree Accuracy:', multi_evaluator.evaluate(dt_predictions))"
      ],
      "execution_count": 36,
      "outputs": [
        {
          "output_type": "stream",
          "text": [
            "Decision Tree Accuracy: 0.9666666666666667\n"
          ],
          "name": "stdout"
        }
      ]
    },
    {
      "cell_type": "code",
      "metadata": {
        "id": "jRt2tVGWdM3L"
      },
      "source": [
        "from pyspark.ml.classification import LogisticRegression\n",
        "\n",
        "lr = LogisticRegression(featuresCol = 'features', labelCol = 'label', maxIter=10)\n",
        "lrModel = lr.fit(training_data)\n",
        "lr_predictions = dtModel.transform(test_data)"
      ],
      "execution_count": 37,
      "outputs": []
    },
    {
      "cell_type": "code",
      "metadata": {
        "colab": {
          "base_uri": "https://localhost:8080/"
        },
        "id": "HrlagXsUdQct",
        "outputId": "0ed599a9-2e76-4356-d210-0622ea257e83"
      },
      "source": [
        "from pyspark.ml.evaluation import MulticlassClassificationEvaluator\n",
        "\n",
        "multi_evaluator = MulticlassClassificationEvaluator(labelCol = 'label', metricName = 'accuracy')\n",
        "print('Logistic Regression Accuracy:', multi_evaluator.evaluate(lr_predictions))"
      ],
      "execution_count": 38,
      "outputs": [
        {
          "output_type": "stream",
          "text": [
            "Logistic Regression Accuracy: 0.9666666666666667\n"
          ],
          "name": "stdout"
        }
      ]
    }
  ]
}