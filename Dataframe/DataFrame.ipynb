{
  "nbformat": 4,
  "nbformat_minor": 0,
  "metadata": {
    "colab": {
      "name": "DataFrame.ipynb",
      "provenance": [],
      "collapsed_sections": []
    },
    "kernelspec": {
      "name": "python3",
      "display_name": "Python 3"
    },
    "language_info": {
      "name": "python"
    }
  },
  "cells": [
    {
      "cell_type": "code",
      "metadata": {
        "colab": {
          "base_uri": "https://localhost:8080/"
        },
        "id": "nUVkB8xKFy3y",
        "outputId": "ac7e6cfb-2eab-4f7a-84e4-fe4427d5aa73"
      },
      "source": [
        "!pip install pyspark"
      ],
      "execution_count": null,
      "outputs": [
        {
          "output_type": "stream",
          "text": [
            "Collecting pyspark\n",
            "\u001b[?25l  Downloading https://files.pythonhosted.org/packages/45/b0/9d6860891ab14a39d4bddf80ba26ce51c2f9dc4805e5c6978ac0472c120a/pyspark-3.1.1.tar.gz (212.3MB)\n",
            "\u001b[K     |████████████████████████████████| 212.3MB 64kB/s \n",
            "\u001b[?25hCollecting py4j==0.10.9\n",
            "\u001b[?25l  Downloading https://files.pythonhosted.org/packages/9e/b6/6a4fb90cd235dc8e265a6a2067f2a2c99f0d91787f06aca4bcf7c23f3f80/py4j-0.10.9-py2.py3-none-any.whl (198kB)\n",
            "\u001b[K     |████████████████████████████████| 204kB 35.4MB/s \n",
            "\u001b[?25hBuilding wheels for collected packages: pyspark\n",
            "  Building wheel for pyspark (setup.py) ... \u001b[?25l\u001b[?25hdone\n",
            "  Created wheel for pyspark: filename=pyspark-3.1.1-py2.py3-none-any.whl size=212767604 sha256=328abc01c2df6094bffa3969fbecea703cc47b15cda268449f98476fbf099706\n",
            "  Stored in directory: /root/.cache/pip/wheels/0b/90/c0/01de724414ef122bd05f056541fb6a0ecf47c7ca655f8b3c0f\n",
            "Successfully built pyspark\n",
            "Installing collected packages: py4j, pyspark\n",
            "Successfully installed py4j-0.10.9 pyspark-3.1.1\n"
          ],
          "name": "stdout"
        }
      ]
    },
    {
      "cell_type": "code",
      "metadata": {
        "id": "lLf3Q13jFb8Q"
      },
      "source": [
        "from pyspark.sql import SparkSession\n",
        "#SparkSession\n",
        "spark = SparkSession \\\n",
        "    .builder \\\n",
        "    .appName(\"DataFrame Example\") \\\n",
        "    .config(\"spark.some.config.option\", \"some-value\") \\\n",
        "    .getOrCreate()"
      ],
      "execution_count": 45,
      "outputs": []
    },
    {
      "cell_type": "code",
      "metadata": {
        "colab": {
          "base_uri": "https://localhost:8080/"
        },
        "id": "sQt9r5h7FyQu",
        "outputId": "017d560d-7a4d-4f6d-8ca6-6d15038997d8"
      },
      "source": [
        "#Create DataFrame\n",
        "df = spark.read.csv('car.data',header=True, inferSchema= True)\n",
        "#tree format\n",
        "df.printSchema()"
      ],
      "execution_count": 46,
      "outputs": [
        {
          "output_type": "stream",
          "text": [
            "root\n",
            " |-- buying: string (nullable = true)\n",
            " |-- maint: string (nullable = true)\n",
            " |-- doors: string (nullable = true)\n",
            " |-- persons: string (nullable = true)\n",
            " |-- lug_boot: string (nullable = true)\n",
            " |-- safety: string (nullable = true)\n",
            " |-- class: string (nullable = true)\n",
            "\n"
          ],
          "name": "stdout"
        }
      ]
    },
    {
      "cell_type": "code",
      "metadata": {
        "colab": {
          "base_uri": "https://localhost:8080/"
        },
        "id": "LzH7PsaSGwK7",
        "outputId": "a2bd80e2-b3ae-4632-eb75-d087318630fa"
      },
      "source": [
        "df.show()"
      ],
      "execution_count": 47,
      "outputs": [
        {
          "output_type": "stream",
          "text": [
            "+------+-----+-----+-------+--------+------+-----+\n",
            "|buying|maint|doors|persons|lug_boot|safety|class|\n",
            "+------+-----+-----+-------+--------+------+-----+\n",
            "| vhigh|vhigh|    2|      2|   small|   low|unacc|\n",
            "| vhigh|vhigh|    2|      2|   small|   med|unacc|\n",
            "| vhigh|vhigh|    2|      2|   small|  high|unacc|\n",
            "| vhigh|vhigh|    2|      2|     med|   low|unacc|\n",
            "| vhigh|vhigh|    2|      2|     med|   med|unacc|\n",
            "| vhigh|vhigh|    2|      2|     med|  high|unacc|\n",
            "| vhigh|vhigh|    2|      2|     big|   low|unacc|\n",
            "| vhigh|vhigh|    2|      2|     big|   med|unacc|\n",
            "| vhigh|vhigh|    2|      2|     big|  high|unacc|\n",
            "| vhigh|vhigh|    2|      4|   small|   low|unacc|\n",
            "| vhigh|vhigh|    2|      4|   small|   med|unacc|\n",
            "| vhigh|vhigh|    2|      4|   small|  high|unacc|\n",
            "| vhigh|vhigh|    2|      4|     med|   low|unacc|\n",
            "| vhigh|vhigh|    2|      4|     med|   med|unacc|\n",
            "| vhigh|vhigh|    2|      4|     med|  high|unacc|\n",
            "| vhigh|vhigh|    2|      4|     big|   low|unacc|\n",
            "| vhigh|vhigh|    2|      4|     big|   med|unacc|\n",
            "| vhigh|vhigh|    2|      4|     big|  high|unacc|\n",
            "| vhigh|vhigh|    2|   more|   small|   low|unacc|\n",
            "| vhigh|vhigh|    2|   more|   small|   med|unacc|\n",
            "+------+-----+-----+-------+--------+------+-----+\n",
            "only showing top 20 rows\n",
            "\n"
          ],
          "name": "stdout"
        }
      ]
    },
    {
      "cell_type": "code",
      "metadata": {
        "colab": {
          "base_uri": "https://localhost:8080/"
        },
        "id": "44v5j3oSMbf1",
        "outputId": "a222bfc9-5488-434a-fd7f-eaafb3684818"
      },
      "source": [
        "#Select only the class column\n",
        "df.select(\"class\").show()"
      ],
      "execution_count": 48,
      "outputs": [
        {
          "output_type": "stream",
          "text": [
            "+-----+\n",
            "|class|\n",
            "+-----+\n",
            "|unacc|\n",
            "|unacc|\n",
            "|unacc|\n",
            "|unacc|\n",
            "|unacc|\n",
            "|unacc|\n",
            "|unacc|\n",
            "|unacc|\n",
            "|unacc|\n",
            "|unacc|\n",
            "|unacc|\n",
            "|unacc|\n",
            "|unacc|\n",
            "|unacc|\n",
            "|unacc|\n",
            "|unacc|\n",
            "|unacc|\n",
            "|unacc|\n",
            "|unacc|\n",
            "|unacc|\n",
            "+-----+\n",
            "only showing top 20 rows\n",
            "\n"
          ],
          "name": "stdout"
        }
      ]
    },
    {
      "cell_type": "code",
      "metadata": {
        "colab": {
          "base_uri": "https://localhost:8080/"
        },
        "id": "_HVZU1WQMtry",
        "outputId": "09a3bad7-ee94-4280-def0-3980a3522694"
      },
      "source": [
        "#Select the class column & increment persons value + 1\n",
        "df.select(df['class'], df['persons'] + 1).show()"
      ],
      "execution_count": 49,
      "outputs": [
        {
          "output_type": "stream",
          "text": [
            "+-----+-------------+\n",
            "|class|(persons + 1)|\n",
            "+-----+-------------+\n",
            "|unacc|          3.0|\n",
            "|unacc|          3.0|\n",
            "|unacc|          3.0|\n",
            "|unacc|          3.0|\n",
            "|unacc|          3.0|\n",
            "|unacc|          3.0|\n",
            "|unacc|          3.0|\n",
            "|unacc|          3.0|\n",
            "|unacc|          3.0|\n",
            "|unacc|          5.0|\n",
            "|unacc|          5.0|\n",
            "|unacc|          5.0|\n",
            "|unacc|          5.0|\n",
            "|unacc|          5.0|\n",
            "|unacc|          5.0|\n",
            "|unacc|          5.0|\n",
            "|unacc|          5.0|\n",
            "|unacc|          5.0|\n",
            "|unacc|         null|\n",
            "|unacc|         null|\n",
            "+-----+-------------+\n",
            "only showing top 20 rows\n",
            "\n"
          ],
          "name": "stdout"
        }
      ]
    },
    {
      "cell_type": "code",
      "metadata": {
        "colab": {
          "base_uri": "https://localhost:8080/"
        },
        "id": "f3dXHuyJMtoQ",
        "outputId": "b8751505-8e94-4d9c-cbe4-677ff49282de"
      },
      "source": [
        "# Select car have persons value older than 2\n",
        "df.filter(df['persons'] > 2).show()"
      ],
      "execution_count": 50,
      "outputs": [
        {
          "output_type": "stream",
          "text": [
            "+------+-----+-----+-------+--------+------+-----+\n",
            "|buying|maint|doors|persons|lug_boot|safety|class|\n",
            "+------+-----+-----+-------+--------+------+-----+\n",
            "| vhigh|vhigh|    2|      4|   small|   low|unacc|\n",
            "| vhigh|vhigh|    2|      4|   small|   med|unacc|\n",
            "| vhigh|vhigh|    2|      4|   small|  high|unacc|\n",
            "| vhigh|vhigh|    2|      4|     med|   low|unacc|\n",
            "| vhigh|vhigh|    2|      4|     med|   med|unacc|\n",
            "| vhigh|vhigh|    2|      4|     med|  high|unacc|\n",
            "| vhigh|vhigh|    2|      4|     big|   low|unacc|\n",
            "| vhigh|vhigh|    2|      4|     big|   med|unacc|\n",
            "| vhigh|vhigh|    2|      4|     big|  high|unacc|\n",
            "| vhigh|vhigh|    3|      4|   small|   low|unacc|\n",
            "| vhigh|vhigh|    3|      4|   small|   med|unacc|\n",
            "| vhigh|vhigh|    3|      4|   small|  high|unacc|\n",
            "| vhigh|vhigh|    3|      4|     med|   low|unacc|\n",
            "| vhigh|vhigh|    3|      4|     med|   med|unacc|\n",
            "| vhigh|vhigh|    3|      4|     med|  high|unacc|\n",
            "| vhigh|vhigh|    3|      4|     big|   low|unacc|\n",
            "| vhigh|vhigh|    3|      4|     big|   med|unacc|\n",
            "| vhigh|vhigh|    3|      4|     big|  high|unacc|\n",
            "| vhigh|vhigh|    4|      4|   small|   low|unacc|\n",
            "| vhigh|vhigh|    4|      4|   small|   med|unacc|\n",
            "+------+-----+-----+-------+--------+------+-----+\n",
            "only showing top 20 rows\n",
            "\n"
          ],
          "name": "stdout"
        }
      ]
    },
    {
      "cell_type": "code",
      "metadata": {
        "colab": {
          "base_uri": "https://localhost:8080/"
        },
        "id": "oHR8o87sRpev",
        "outputId": "38cd8dbe-fec4-4809-dc74-6e6975d84b58"
      },
      "source": [
        "# Take the first 3 rows\n",
        "df.take(3)"
      ],
      "execution_count": 51,
      "outputs": [
        {
          "output_type": "execute_result",
          "data": {
            "text/plain": [
              "[Row(buying='vhigh', maint='vhigh', doors='2', persons='2', lug_boot='small', safety='low', class='unacc'),\n",
              " Row(buying='vhigh', maint='vhigh', doors='2', persons='2', lug_boot='small', safety='med', class='unacc'),\n",
              " Row(buying='vhigh', maint='vhigh', doors='2', persons='2', lug_boot='small', safety='high', class='unacc')]"
            ]
          },
          "metadata": {
            "tags": []
          },
          "execution_count": 51
        }
      ]
    },
    {
      "cell_type": "code",
      "metadata": {
        "colab": {
          "base_uri": "https://localhost:8080/"
        },
        "id": "aATe0sstR1hc",
        "outputId": "bea882a9-0933-43c4-d021-c207c484f7df"
      },
      "source": [
        "print(\"In total there are {0} operations\".format(df.count()))"
      ],
      "execution_count": 52,
      "outputs": [
        {
          "output_type": "stream",
          "text": [
            "In total there are 1728 operations\n"
          ],
          "name": "stdout"
        }
      ]
    },
    {
      "cell_type": "code",
      "metadata": {
        "colab": {
          "base_uri": "https://localhost:8080/"
        },
        "id": "AlgHz3_xOMZj",
        "outputId": "eabb9002-6abe-406f-eb0a-4c5295f626d4"
      },
      "source": [
        "# Count car by class\n",
        "df.groupBy(\"class\").count().show()\n",
        "df1 = df.groupBy(\"class\").count()"
      ],
      "execution_count": 53,
      "outputs": [
        {
          "output_type": "stream",
          "text": [
            "+-----+-----+\n",
            "|class|count|\n",
            "+-----+-----+\n",
            "|unacc| 1210|\n",
            "|  acc|  384|\n",
            "|vgood|   65|\n",
            "| good|   69|\n",
            "+-----+-----+\n",
            "\n"
          ],
          "name": "stdout"
        }
      ]
    },
    {
      "cell_type": "code",
      "metadata": {
        "colab": {
          "base_uri": "https://localhost:8080/",
          "height": 496
        },
        "id": "_RLnOQZLSlNy",
        "outputId": "0b58ebf2-0174-41d0-aecf-fd99ed663e80"
      },
      "source": [
        "pd = df1.toPandas()\n",
        "pl = pd.plot(kind=\"bar\", \n",
        "              x=\"class\", y=\"count\", \n",
        "              figsize=(10, 7), log=True, alpha=0.5, color=\"olive\")\n",
        "\n",
        "pl.set_xlabel(\"Car\")\n",
        "pl.set_ylabel(\"Count\")\n",
        "pl.set_title(\"The number of each car\")"
      ],
      "execution_count": 54,
      "outputs": [
        {
          "output_type": "execute_result",
          "data": {
            "text/plain": [
              "Text(0.5, 1.0, 'The number of each car')"
            ]
          },
          "metadata": {
            "tags": []
          },
          "execution_count": 54
        },
        {
          "output_type": "display_data",
          "data": {
            "image/png": "[encoded data removed]",
            "text/plain": [
              "<Figure size 720x504 with 1 Axes>"
            ]
          },
          "metadata": {
            "tags": [],
            "needs_background": "light"
          }
        }
      ]
    },
    {
      "cell_type": "markdown",
      "metadata": {
        "id": "e5553G3uOo-j"
      },
      "source": [
        "Running SQL Queries Programmatically"
      ]
    },
    {
      "cell_type": "code",
      "metadata": {
        "colab": {
          "base_uri": "https://localhost:8080/"
        },
        "id": "iGMmAXTLOrfC",
        "outputId": "225df188-0e41-4445-eac5-2b59f51ba731"
      },
      "source": [
        "df.createOrReplaceTempView(\"car\")\n",
        "\n",
        "sqlDF = spark.sql(\"SELECT * FROM car\")\n",
        "sqlDF.show()"
      ],
      "execution_count": 55,
      "outputs": [
        {
          "output_type": "stream",
          "text": [
            "+------+-----+-----+-------+--------+------+-----+\n",
            "|buying|maint|doors|persons|lug_boot|safety|class|\n",
            "+------+-----+-----+-------+--------+------+-----+\n",
            "| vhigh|vhigh|    2|      2|   small|   low|unacc|\n",
            "| vhigh|vhigh|    2|      2|   small|   med|unacc|\n",
            "| vhigh|vhigh|    2|      2|   small|  high|unacc|\n",
            "| vhigh|vhigh|    2|      2|     med|   low|unacc|\n",
            "| vhigh|vhigh|    2|      2|     med|   med|unacc|\n",
            "| vhigh|vhigh|    2|      2|     med|  high|unacc|\n",
            "| vhigh|vhigh|    2|      2|     big|   low|unacc|\n",
            "| vhigh|vhigh|    2|      2|     big|   med|unacc|\n",
            "| vhigh|vhigh|    2|      2|     big|  high|unacc|\n",
            "| vhigh|vhigh|    2|      4|   small|   low|unacc|\n",
            "| vhigh|vhigh|    2|      4|   small|   med|unacc|\n",
            "| vhigh|vhigh|    2|      4|   small|  high|unacc|\n",
            "| vhigh|vhigh|    2|      4|     med|   low|unacc|\n",
            "| vhigh|vhigh|    2|      4|     med|   med|unacc|\n",
            "| vhigh|vhigh|    2|      4|     med|  high|unacc|\n",
            "| vhigh|vhigh|    2|      4|     big|   low|unacc|\n",
            "| vhigh|vhigh|    2|      4|     big|   med|unacc|\n",
            "| vhigh|vhigh|    2|      4|     big|  high|unacc|\n",
            "| vhigh|vhigh|    2|   more|   small|   low|unacc|\n",
            "| vhigh|vhigh|    2|   more|   small|   med|unacc|\n",
            "+------+-----+-----+-------+--------+------+-----+\n",
            "only showing top 20 rows\n",
            "\n"
          ],
          "name": "stdout"
        }
      ]
    },
    {
      "cell_type": "code",
      "metadata": {
        "colab": {
          "base_uri": "https://localhost:8080/"
        },
        "id": "qVHgW3ngO1Th",
        "outputId": "ada401ff-316a-48fd-d081-207e21addcff"
      },
      "source": [
        "sqlDF = spark.sql(\"SELECT * FROM car WHERE doors > 2\")\n",
        "sqlDF.show()"
      ],
      "execution_count": 57,
      "outputs": [
        {
          "output_type": "stream",
          "text": [
            "+------+-----+-----+-------+--------+------+-----+\n",
            "|buying|maint|doors|persons|lug_boot|safety|class|\n",
            "+------+-----+-----+-------+--------+------+-----+\n",
            "| vhigh|vhigh|    3|      2|   small|   low|unacc|\n",
            "| vhigh|vhigh|    3|      2|   small|   med|unacc|\n",
            "| vhigh|vhigh|    3|      2|   small|  high|unacc|\n",
            "| vhigh|vhigh|    3|      2|     med|   low|unacc|\n",
            "| vhigh|vhigh|    3|      2|     med|   med|unacc|\n",
            "| vhigh|vhigh|    3|      2|     med|  high|unacc|\n",
            "| vhigh|vhigh|    3|      2|     big|   low|unacc|\n",
            "| vhigh|vhigh|    3|      2|     big|   med|unacc|\n",
            "| vhigh|vhigh|    3|      2|     big|  high|unacc|\n",
            "| vhigh|vhigh|    3|      4|   small|   low|unacc|\n",
            "| vhigh|vhigh|    3|      4|   small|   med|unacc|\n",
            "| vhigh|vhigh|    3|      4|   small|  high|unacc|\n",
            "| vhigh|vhigh|    3|      4|     med|   low|unacc|\n",
            "| vhigh|vhigh|    3|      4|     med|   med|unacc|\n",
            "| vhigh|vhigh|    3|      4|     med|  high|unacc|\n",
            "| vhigh|vhigh|    3|      4|     big|   low|unacc|\n",
            "| vhigh|vhigh|    3|      4|     big|   med|unacc|\n",
            "| vhigh|vhigh|    3|      4|     big|  high|unacc|\n",
            "| vhigh|vhigh|    3|   more|   small|   low|unacc|\n",
            "| vhigh|vhigh|    3|   more|   small|   med|unacc|\n",
            "+------+-----+-----+-------+--------+------+-----+\n",
            "only showing top 20 rows\n",
            "\n"
          ],
          "name": "stdout"
        }
      ]
    }
  ]
}